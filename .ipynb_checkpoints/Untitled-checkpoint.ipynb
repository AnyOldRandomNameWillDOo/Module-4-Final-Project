{
 "cells": [
  {
   "cell_type": "code",
   "execution_count": null,
   "metadata": {},
   "outputs": [],
   "source": [
    "class Timer:\n",
    "    def __init__(self,fmt='%m/%d/%Y at %I:%M:%S %p', start=True,\n",
    "                label=''):\n",
    "        self.fmt = fmt\n",
    "        import tzlocal\n",
    "        self.tz = tzlocal.get_localzone()\n",
    "        self._summary = []\n",
    "        \n",
    "        if start:\n",
    "            self.start(label=label)\n",
    "        \n",
    "    def _get_time(self):\n",
    "        import datetime as dt\n",
    "        return dt.datetime.now(self.tz)\n",
    "    \n",
    "    def _print_append(self,msg):\n",
    "        self._summary.append(msg)\n",
    "        print(msg)\n",
    "        \n",
    "    def start(self,label=''):\n",
    "        self._start = self._get_time()\n",
    "        self._print_append(f\"Timer started: {self._start.strftime(self.fmt)}\")\n",
    "    \n",
    "        if len(label) >0:\n",
    "            self._print_append(f'\\t- Process being timed: {label}\\n')   \n",
    "    \n",
    "    def stop(self,label=''):\n",
    "        self._stop = self._get_time()\n",
    "        self._print_append(f\"Timer stopped at: {self._stop.strftime(self.fmt)}\")\n",
    "        self._print_append(f'\\tElapsed Time: {self._stop-self._start}')\n",
    "        \n",
    "        if len(label) >0:\n",
    "            self._print_append(f'\\tResults:\\t{label}')\n",
    "            \n",
    "    def __repr__(self):\n",
    "        return '\\n'.join(self._summary)\n",
    "    \n",
    "    def __str__(self):\n",
    "        return self.__repr__()\n",
    "    \n",
    "    def __call__(self):\n",
    "        time = self._get_time()\n",
    "        return time.strftime(self.fmt)"
   ]
  },
  {
   "cell_type": "code",
   "execution_count": null,
   "metadata": {},
   "outputs": [],
   "source": [
    "from tensorflow.keras.models import load_model\n",
    "best_model = load_model('ExtraFiltersOversamplingCNNModel.h5')"
   ]
  }
 ],
 "metadata": {
  "kernelspec": {
   "display_name": "learn-env",
   "language": "python",
   "name": "learn-env"
  },
  "language_info": {
   "codemirror_mode": {
    "name": "ipython",
    "version": 3
   },
   "file_extension": ".py",
   "mimetype": "text/x-python",
   "name": "python",
   "nbconvert_exporter": "python",
   "pygments_lexer": "ipython3",
   "version": "3.6.11"
  },
  "toc": {
   "base_numbering": 1,
   "nav_menu": {},
   "number_sections": true,
   "sideBar": true,
   "skip_h1_title": false,
   "title_cell": "Table of Contents",
   "title_sidebar": "Contents",
   "toc_cell": false,
   "toc_position": {},
   "toc_section_display": true,
   "toc_window_display": true
  }
 },
 "nbformat": 4,
 "nbformat_minor": 4
}
